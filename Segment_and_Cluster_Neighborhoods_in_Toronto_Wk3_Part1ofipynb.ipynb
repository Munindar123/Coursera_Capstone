{
  "nbformat": 4,
  "nbformat_minor": 0,
  "metadata": {
    "colab": {
      "name": "Segment_and_Cluster_Neighborhoods_in_Toronto_Wk3_Part1ofipynb",
      "provenance": []
    },
    "kernelspec": {
      "name": "python3",
      "display_name": "Python 3"
    }
  },
  "cells": [
    {
      "cell_type": "markdown",
      "metadata": {
        "id": "ZQPA4G6isvbR",
        "colab_type": "text"
      },
      "source": [
        ""
      ]
    },
    {
      "cell_type": "markdown",
      "metadata": {
        "id": "tr-ta4UCsxsS",
        "colab_type": "text"
      },
      "source": [
        "\n",
        "**Segment and Cluster Neighbourhoods in Toronto**\n",
        "**IBM/Coursera Applied Datascience Capstone**\n",
        "This Project Notebook assignment is Part 1 of 3 for Week 3: Applied Datascience Capstone Course assignment.\n",
        "\n",
        "Load url into data objects for analysis:\n",
        "\n",
        "Step 1: Build code to scrape following wikipedia page, https://en.wikipedia.org/wiki/List_of_postal_codes_of_Canada:_M, in order to obtain the Postal Code, Borough, and Neighborhood data.**bold text**"
      ]
    },
    {
      "cell_type": "code",
      "metadata": {
        "id": "piHEqO68sXGD",
        "colab_type": "code",
        "colab": {}
      },
      "source": [
        "import pandas as pd\n",
        "data = pd.read_html(\"https://en.wikipedia.org/wiki/List_of_postal_codes_of_Canada:_M\")"
      ],
      "execution_count": 1,
      "outputs": []
    },
    {
      "cell_type": "markdown",
      "metadata": {
        "id": "LZbNV-4ks8tr",
        "colab_type": "text"
      },
      "source": [
        "\n",
        "Wrangle and clean data:\n",
        "\n",
        "Step 2: Evaluate each of the data table objects in turn that we created during url loading.\n",
        "\n",
        "Step 3: Designate primary dataframe and populate with required data objects loaded from url."
      ]
    },
    {
      "cell_type": "code",
      "metadata": {
        "id": "SrORfKEUsuE-",
        "colab_type": "code",
        "colab": {
          "base_uri": "https://localhost:8080/",
          "height": 195
        },
        "outputId": "39eb266f-62c8-4f2e-ed38-1dede55fb52a"
      },
      "source": [
        "# Explore first few rows of our initial data[0] table\n",
        "# Create df, primary dataframe, merged from data[0].\n",
        "# Designate df as primary dataframe. \n",
        "\n",
        "df = data[0]\n",
        "df.head(5)"
      ],
      "execution_count": 4,
      "outputs": [
        {
          "output_type": "execute_result",
          "data": {
            "text/html": [
              "<div>\n",
              "<style scoped>\n",
              "    .dataframe tbody tr th:only-of-type {\n",
              "        vertical-align: middle;\n",
              "    }\n",
              "\n",
              "    .dataframe tbody tr th {\n",
              "        vertical-align: top;\n",
              "    }\n",
              "\n",
              "    .dataframe thead th {\n",
              "        text-align: right;\n",
              "    }\n",
              "</style>\n",
              "<table border=\"1\" class=\"dataframe\">\n",
              "  <thead>\n",
              "    <tr style=\"text-align: right;\">\n",
              "      <th></th>\n",
              "      <th>Postal Code</th>\n",
              "      <th>Borough</th>\n",
              "      <th>Neighbourhood</th>\n",
              "    </tr>\n",
              "  </thead>\n",
              "  <tbody>\n",
              "    <tr>\n",
              "      <th>0</th>\n",
              "      <td>M1A</td>\n",
              "      <td>Not assigned</td>\n",
              "      <td>Not assigned</td>\n",
              "    </tr>\n",
              "    <tr>\n",
              "      <th>1</th>\n",
              "      <td>M2A</td>\n",
              "      <td>Not assigned</td>\n",
              "      <td>Not assigned</td>\n",
              "    </tr>\n",
              "    <tr>\n",
              "      <th>2</th>\n",
              "      <td>M3A</td>\n",
              "      <td>North York</td>\n",
              "      <td>Parkwoods</td>\n",
              "    </tr>\n",
              "    <tr>\n",
              "      <th>3</th>\n",
              "      <td>M4A</td>\n",
              "      <td>North York</td>\n",
              "      <td>Victoria Village</td>\n",
              "    </tr>\n",
              "    <tr>\n",
              "      <th>4</th>\n",
              "      <td>M5A</td>\n",
              "      <td>Downtown Toronto</td>\n",
              "      <td>Regent Park, Harbourfront</td>\n",
              "    </tr>\n",
              "  </tbody>\n",
              "</table>\n",
              "</div>"
            ],
            "text/plain": [
              "  Postal Code           Borough              Neighbourhood\n",
              "0         M1A      Not assigned               Not assigned\n",
              "1         M2A      Not assigned               Not assigned\n",
              "2         M3A        North York                  Parkwoods\n",
              "3         M4A        North York           Victoria Village\n",
              "4         M5A  Downtown Toronto  Regent Park, Harbourfront"
            ]
          },
          "metadata": {
            "tags": []
          },
          "execution_count": 4
        }
      ]
    },
    {
      "cell_type": "markdown",
      "metadata": {
        "id": "1-TzVuBwtGY7",
        "colab_type": "text"
      },
      "source": [
        "\n",
        "Summary:\n",
        "The first dataframe object data[0] created by html reader has the 3 column names we require, and is populated with 180 rows of data.\n",
        "data[1] and data[2], our second and third imported dataframe objects, were both created during scraping by read_html and evaluated to see if any data is required of them. Both of the data sets contain Canada province/state higher level information, not in scope for our Toronto City level model, therefore are not used.\n",
        "Steps 1 thru 3 are complete.\n",
        "Step 4: Ensure Borough (town) cells with an assigned borough are processed. Cells where borough = 'Not assigned' are ignored."
      ]
    },
    {
      "cell_type": "code",
      "metadata": {
        "id": "ZBX9KsjzspXS",
        "colab_type": "code",
        "colab": {
          "base_uri": "https://localhost:8080/",
          "height": 218
        },
        "outputId": "b3ab927a-5e2c-4e02-cf55-b00409befb5f"
      },
      "source": [
        "print(df['Borough'].value_counts())"
      ],
      "execution_count": 6,
      "outputs": [
        {
          "output_type": "stream",
          "text": [
            "Not assigned        77\n",
            "North York          24\n",
            "Downtown Toronto    19\n",
            "Scarborough         17\n",
            "Etobicoke           12\n",
            "Central Toronto      9\n",
            "West Toronto         6\n",
            "East Toronto         5\n",
            "East York            5\n",
            "York                 5\n",
            "Mississauga          1\n",
            "Name: Borough, dtype: int64\n"
          ],
          "name": "stdout"
        }
      ]
    },
    {
      "cell_type": "code",
      "metadata": {
        "id": "hxae4zhXtVds",
        "colab_type": "code",
        "colab": {
          "base_uri": "https://localhost:8080/",
          "height": 202
        },
        "outputId": "5812e722-75df-47b6-fc85-a7936ceb238d"
      },
      "source": [
        "df = df[df['Borough']!= 'Not assigned']\n",
        "print(df['Borough'].value_counts())\n"
      ],
      "execution_count": 9,
      "outputs": [
        {
          "output_type": "stream",
          "text": [
            "North York          24\n",
            "Downtown Toronto    19\n",
            "Scarborough         17\n",
            "Etobicoke           12\n",
            "Central Toronto      9\n",
            "West Toronto         6\n",
            "East Toronto         5\n",
            "East York            5\n",
            "York                 5\n",
            "Mississauga          1\n",
            "Name: Borough, dtype: int64\n"
          ],
          "name": "stdout"
        }
      ]
    },
    {
      "cell_type": "markdown",
      "metadata": {
        "id": "OaRh3JUHt1Yt",
        "colab_type": "text"
      },
      "source": [
        "\n",
        "Step 5: When two or more Neighborhoods share the same postal code, combine each Neighbourhood to a single neighborhood line comma delimited."
      ]
    },
    {
      "cell_type": "code",
      "metadata": {
        "id": "Sv6tftJ8tnIr",
        "colab_type": "code",
        "colab": {
          "base_uri": "https://localhost:8080/",
          "height": 185
        },
        "outputId": "b2495ff5-8b89-4c54-b48f-c856b61537ef"
      },
      "source": [
        "\n",
        "# I first perform a count sum of any df column duplicates by creating a lambda function. \n",
        "dup_chk = df.apply(lambda col: col.duplicated()).sum()\n",
        "print(dup_chk)\n",
        "print(df.head(5))"
      ],
      "execution_count": 10,
      "outputs": [
        {
          "output_type": "stream",
          "text": [
            "Postal Code       0\n",
            "Borough          93\n",
            "Neighbourhood     4\n",
            "dtype: int64\n",
            "  Postal Code           Borough                                Neighbourhood\n",
            "2         M3A        North York                                    Parkwoods\n",
            "3         M4A        North York                             Victoria Village\n",
            "4         M5A  Downtown Toronto                    Regent Park, Harbourfront\n",
            "5         M6A        North York             Lawrence Manor, Lawrence Heights\n",
            "6         M7A  Downtown Toronto  Queen's Park, Ontario Provincial Government\n"
          ],
          "name": "stdout"
        }
      ]
    },
    {
      "cell_type": "markdown",
      "metadata": {
        "id": "QrIogJSguHKB",
        "colab_type": "text"
      },
      "source": [
        "\n",
        "Step 6: If a cell has a borough but a Not assigned neighborhood, then the neighborhood will be the same as the borough."
      ]
    },
    {
      "cell_type": "code",
      "metadata": {
        "id": "0hogD7bhtn-M",
        "colab_type": "code",
        "colab": {
          "base_uri": "https://localhost:8080/",
          "height": 47
        },
        "outputId": "04010a67-227c-44ad-8b83-fcf68ffb7468"
      },
      "source": [
        "#List all rows where Neighbourhood = 'Not assigned'. \n",
        "Num_Neighbourhood_Not_Assigneds = df[df['Neighbourhood'] == 'Not assigned']\n",
        "Num_Neighbourhood_Not_Assigneds.head(5)"
      ],
      "execution_count": 11,
      "outputs": [
        {
          "output_type": "execute_result",
          "data": {
            "text/html": [
              "<div>\n",
              "<style scoped>\n",
              "    .dataframe tbody tr th:only-of-type {\n",
              "        vertical-align: middle;\n",
              "    }\n",
              "\n",
              "    .dataframe tbody tr th {\n",
              "        vertical-align: top;\n",
              "    }\n",
              "\n",
              "    .dataframe thead th {\n",
              "        text-align: right;\n",
              "    }\n",
              "</style>\n",
              "<table border=\"1\" class=\"dataframe\">\n",
              "  <thead>\n",
              "    <tr style=\"text-align: right;\">\n",
              "      <th></th>\n",
              "      <th>Postal Code</th>\n",
              "      <th>Borough</th>\n",
              "      <th>Neighbourhood</th>\n",
              "    </tr>\n",
              "  </thead>\n",
              "  <tbody>\n",
              "  </tbody>\n",
              "</table>\n",
              "</div>"
            ],
            "text/plain": [
              "Empty DataFrame\n",
              "Columns: [Postal Code, Borough, Neighbourhood]\n",
              "Index: []"
            ]
          },
          "metadata": {
            "tags": []
          },
          "execution_count": 11
        }
      ]
    },
    {
      "cell_type": "code",
      "metadata": {
        "id": "A5RvimAtuKKy",
        "colab_type": "code",
        "colab": {
          "base_uri": "https://localhost:8080/",
          "height": 195
        },
        "outputId": "2214c240-17e9-4328-fa60-f528162cd9da"
      },
      "source": [
        "#Create a Wk3:PostalDataPart1.csv file we will use for Wk3: Part 2.\n",
        "df.to_csv('Wk3PostalDataPart1.csv', index=False)\n",
        "\n",
        "#Test csv load\n",
        "df2 = pd.read_csv('./Wk3PostalDataPart1.csv')\n",
        "df2.head()"
      ],
      "execution_count": 12,
      "outputs": [
        {
          "output_type": "execute_result",
          "data": {
            "text/html": [
              "<div>\n",
              "<style scoped>\n",
              "    .dataframe tbody tr th:only-of-type {\n",
              "        vertical-align: middle;\n",
              "    }\n",
              "\n",
              "    .dataframe tbody tr th {\n",
              "        vertical-align: top;\n",
              "    }\n",
              "\n",
              "    .dataframe thead th {\n",
              "        text-align: right;\n",
              "    }\n",
              "</style>\n",
              "<table border=\"1\" class=\"dataframe\">\n",
              "  <thead>\n",
              "    <tr style=\"text-align: right;\">\n",
              "      <th></th>\n",
              "      <th>Postal Code</th>\n",
              "      <th>Borough</th>\n",
              "      <th>Neighbourhood</th>\n",
              "    </tr>\n",
              "  </thead>\n",
              "  <tbody>\n",
              "    <tr>\n",
              "      <th>0</th>\n",
              "      <td>M3A</td>\n",
              "      <td>North York</td>\n",
              "      <td>Parkwoods</td>\n",
              "    </tr>\n",
              "    <tr>\n",
              "      <th>1</th>\n",
              "      <td>M4A</td>\n",
              "      <td>North York</td>\n",
              "      <td>Victoria Village</td>\n",
              "    </tr>\n",
              "    <tr>\n",
              "      <th>2</th>\n",
              "      <td>M5A</td>\n",
              "      <td>Downtown Toronto</td>\n",
              "      <td>Regent Park, Harbourfront</td>\n",
              "    </tr>\n",
              "    <tr>\n",
              "      <th>3</th>\n",
              "      <td>M6A</td>\n",
              "      <td>North York</td>\n",
              "      <td>Lawrence Manor, Lawrence Heights</td>\n",
              "    </tr>\n",
              "    <tr>\n",
              "      <th>4</th>\n",
              "      <td>M7A</td>\n",
              "      <td>Downtown Toronto</td>\n",
              "      <td>Queen's Park, Ontario Provincial Government</td>\n",
              "    </tr>\n",
              "  </tbody>\n",
              "</table>\n",
              "</div>"
            ],
            "text/plain": [
              "  Postal Code           Borough                                Neighbourhood\n",
              "0         M3A        North York                                    Parkwoods\n",
              "1         M4A        North York                             Victoria Village\n",
              "2         M5A  Downtown Toronto                    Regent Park, Harbourfront\n",
              "3         M6A        North York             Lawrence Manor, Lawrence Heights\n",
              "4         M7A  Downtown Toronto  Queen's Park, Ontario Provincial Government"
            ]
          },
          "metadata": {
            "tags": []
          },
          "execution_count": 12
        }
      ]
    },
    {
      "cell_type": "markdown",
      "metadata": {
        "id": "mHHuFv3aufFF",
        "colab_type": "text"
      },
      "source": [
        "\n",
        "Summary:\n",
        "Net of 103 net rows of data, after 77 borough 'Not Assigned' rows were removed from initial 180 rows reported during initial step.\n",
        "Dataframe is ready for integration with next Part 2 assignment."
      ]
    },
    {
      "cell_type": "code",
      "metadata": {
        "id": "PTzE4gZ6uVwq",
        "colab_type": "code",
        "colab": {
          "base_uri": "https://localhost:8080/",
          "height": 34
        },
        "outputId": "345efc38-fd94-48db-f8e6-9600ae0b12a7"
      },
      "source": [
        "\n",
        "print(df.shape, 'rows x cols')"
      ],
      "execution_count": 13,
      "outputs": [
        {
          "output_type": "stream",
          "text": [
            "(103, 3) rows x cols\n"
          ],
          "name": "stdout"
        }
      ]
    },
    {
      "cell_type": "code",
      "metadata": {
        "id": "B27iMWSVxRk0",
        "colab_type": "code",
        "colab": {}
      },
      "source": [
        ""
      ],
      "execution_count": null,
      "outputs": []
    }
  ]
}