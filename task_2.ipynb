{
  "nbformat": 4,
  "nbformat_minor": 0,
  "metadata": {
    "colab": {
      "name": "task 2.ipynb",
      "provenance": []
    },
    "kernelspec": {
      "name": "python3",
      "display_name": "Python 3"
    }
  },
  "cells": [
    {
      "cell_type": "markdown",
      "metadata": {
        "id": "ZQPA4G6isvbR",
        "colab_type": "text"
      },
      "source": [
        ""
      ]
    },
    {
      "cell_type": "markdown",
      "metadata": {
        "id": "tr-ta4UCsxsS",
        "colab_type": "text"
      },
      "source": [
        "\n",
        "**Segment and Cluster Neighbourhoods in Toronto**\n",
        "**IBM/Coursera Applied Datascience Capstone**\n",
        "This Project Notebook assignment is Part 1 of 3 for Week 3: Applied Datascience Capstone Course assignment.\n",
        "\n",
        "Load url into data objects for analysis:\n",
        "\n",
        "Step 1: Build code to scrape following wikipedia page, https://en.wikipedia.org/wiki/List_of_postal_codes_of_Canada:_M, in order to obtain the Postal Code, Borough, and Neighborhood data.**bold text**"
      ]
    },
    {
      "cell_type": "code",
      "metadata": {
        "id": "piHEqO68sXGD",
        "colab_type": "code",
        "colab": {}
      },
      "source": [
        "import pandas as pd\n",
        "data = pd.read_html(\"https://en.wikipedia.org/wiki/List_of_postal_codes_of_Canada:_M\")"
      ],
      "execution_count": 1,
      "outputs": []
    },
    {
      "cell_type": "markdown",
      "metadata": {
        "id": "LZbNV-4ks8tr",
        "colab_type": "text"
      },
      "source": [
        "\n",
        "Wrangle and clean data:\n",
        "\n",
        "Step 2: Evaluate each of the data table objects in turn that we created during url loading.\n",
        "\n",
        "Step 3: Designate primary dataframe and populate with required data objects loaded from url."
      ]
    },
    {
      "cell_type": "code",
      "metadata": {
        "id": "SrORfKEUsuE-",
        "colab_type": "code",
        "colab": {
          "base_uri": "https://localhost:8080/",
          "height": 195
        },
        "outputId": "39eb266f-62c8-4f2e-ed38-1dede55fb52a"
      },
      "source": [
        "# Explore first few rows of our initial data[0] table\n",
        "# Create df, primary dataframe, merged from data[0].\n",
        "# Designate df as primary dataframe. \n",
        "\n",
        "df = data[0]\n",
        "df.head(5)"
      ],
      "execution_count": 4,
      "outputs": [
        {
          "output_type": "execute_result",
          "data": {
            "text/html": [
              "<div>\n",
              "<style scoped>\n",
              "    .dataframe tbody tr th:only-of-type {\n",
              "        vertical-align: middle;\n",
              "    }\n",
              "\n",
              "    .dataframe tbody tr th {\n",
              "        vertical-align: top;\n",
              "    }\n",
              "\n",
              "    .dataframe thead th {\n",
              "        text-align: right;\n",
              "    }\n",
              "</style>\n",
              "<table border=\"1\" class=\"dataframe\">\n",
              "  <thead>\n",
              "    <tr style=\"text-align: right;\">\n",
              "      <th></th>\n",
              "      <th>Postal Code</th>\n",
              "      <th>Borough</th>\n",
              "      <th>Neighbourhood</th>\n",
              "    </tr>\n",
              "  </thead>\n",
              "  <tbody>\n",
              "    <tr>\n",
              "      <th>0</th>\n",
              "      <td>M1A</td>\n",
              "      <td>Not assigned</td>\n",
              "      <td>Not assigned</td>\n",
              "    </tr>\n",
              "    <tr>\n",
              "      <th>1</th>\n",
              "      <td>M2A</td>\n",
              "      <td>Not assigned</td>\n",
              "      <td>Not assigned</td>\n",
              "    </tr>\n",
              "    <tr>\n",
              "      <th>2</th>\n",
              "      <td>M3A</td>\n",
              "      <td>North York</td>\n",
              "      <td>Parkwoods</td>\n",
              "    </tr>\n",
              "    <tr>\n",
              "      <th>3</th>\n",
              "      <td>M4A</td>\n",
              "      <td>North York</td>\n",
              "      <td>Victoria Village</td>\n",
              "    </tr>\n",
              "    <tr>\n",
              "      <th>4</th>\n",
              "      <td>M5A</td>\n",
              "      <td>Downtown Toronto</td>\n",
              "      <td>Regent Park, Harbourfront</td>\n",
              "    </tr>\n",
              "  </tbody>\n",
              "</table>\n",
              "</div>"
            ],
            "text/plain": [
              "  Postal Code           Borough              Neighbourhood\n",
              "0         M1A      Not assigned               Not assigned\n",
              "1         M2A      Not assigned               Not assigned\n",
              "2         M3A        North York                  Parkwoods\n",
              "3         M4A        North York           Victoria Village\n",
              "4         M5A  Downtown Toronto  Regent Park, Harbourfront"
            ]
          },
          "metadata": {
            "tags": []
          },
          "execution_count": 4
        }
      ]
    },
    {
      "cell_type": "markdown",
      "metadata": {
        "id": "1-TzVuBwtGY7",
        "colab_type": "text"
      },
      "source": [
        "\n",
        "Summary:\n",
        "The first dataframe object data[0] created by html reader has the 3 column names we require, and is populated with 180 rows of data.\n",
        "data[1] and data[2], our second and third imported dataframe objects, were both created during scraping by read_html and evaluated to see if any data is required of them. Both of the data sets contain Canada province/state higher level information, not in scope for our Toronto City level model, therefore are not used.\n",
        "Steps 1 thru 3 are complete.\n",
        "Step 4: Ensure Borough (town) cells with an assigned borough are processed. Cells where borough = 'Not assigned' are ignored."
      ]
    },
    {
      "cell_type": "code",
      "metadata": {
        "id": "ZBX9KsjzspXS",
        "colab_type": "code",
        "colab": {
          "base_uri": "https://localhost:8080/",
          "height": 218
        },
        "outputId": "b3ab927a-5e2c-4e02-cf55-b00409befb5f"
      },
      "source": [
        "print(df['Borough'].value_counts())"
      ],
      "execution_count": 6,
      "outputs": [
        {
          "output_type": "stream",
          "text": [
            "Not assigned        77\n",
            "North York          24\n",
            "Downtown Toronto    19\n",
            "Scarborough         17\n",
            "Etobicoke           12\n",
            "Central Toronto      9\n",
            "West Toronto         6\n",
            "East Toronto         5\n",
            "East York            5\n",
            "York                 5\n",
            "Mississauga          1\n",
            "Name: Borough, dtype: int64\n"
          ],
          "name": "stdout"
        }
      ]
    },
    {
      "cell_type": "code",
      "metadata": {
        "id": "hxae4zhXtVds",
        "colab_type": "code",
        "colab": {
          "base_uri": "https://localhost:8080/",
          "height": 202
        },
        "outputId": "5812e722-75df-47b6-fc85-a7936ceb238d"
      },
      "source": [
        "df = df[df['Borough']!= 'Not assigned']\n",
        "print(df['Borough'].value_counts())\n"
      ],
      "execution_count": 9,
      "outputs": [
        {
          "output_type": "stream",
          "text": [
            "North York          24\n",
            "Downtown Toronto    19\n",
            "Scarborough         17\n",
            "Etobicoke           12\n",
            "Central Toronto      9\n",
            "West Toronto         6\n",
            "East Toronto         5\n",
            "East York            5\n",
            "York                 5\n",
            "Mississauga          1\n",
            "Name: Borough, dtype: int64\n"
          ],
          "name": "stdout"
        }
      ]
    },
    {
      "cell_type": "markdown",
      "metadata": {
        "id": "OaRh3JUHt1Yt",
        "colab_type": "text"
      },
      "source": [
        "\n",
        "Step 5: When two or more Neighborhoods share the same postal code, combine each Neighbourhood to a single neighborhood line comma delimited."
      ]
    },
    {
      "cell_type": "code",
      "metadata": {
        "id": "Sv6tftJ8tnIr",
        "colab_type": "code",
        "colab": {
          "base_uri": "https://localhost:8080/",
          "height": 185
        },
        "outputId": "b2495ff5-8b89-4c54-b48f-c856b61537ef"
      },
      "source": [
        "\n",
        "# I first perform a count sum of any df column duplicates by creating a lambda function. \n",
        "dup_chk = df.apply(lambda col: col.duplicated()).sum()\n",
        "print(dup_chk)\n",
        "print(df.head(5))"
      ],
      "execution_count": 10,
      "outputs": [
        {
          "output_type": "stream",
          "text": [
            "Postal Code       0\n",
            "Borough          93\n",
            "Neighbourhood     4\n",
            "dtype: int64\n",
            "  Postal Code           Borough                                Neighbourhood\n",
            "2         M3A        North York                                    Parkwoods\n",
            "3         M4A        North York                             Victoria Village\n",
            "4         M5A  Downtown Toronto                    Regent Park, Harbourfront\n",
            "5         M6A        North York             Lawrence Manor, Lawrence Heights\n",
            "6         M7A  Downtown Toronto  Queen's Park, Ontario Provincial Government\n"
          ],
          "name": "stdout"
        }
      ]
    },
    {
      "cell_type": "markdown",
      "metadata": {
        "id": "QrIogJSguHKB",
        "colab_type": "text"
      },
      "source": [
        "\n",
        "Step 6: If a cell has a borough but a Not assigned neighborhood, then the neighborhood will be the same as the borough."
      ]
    },
    {
      "cell_type": "code",
      "metadata": {
        "id": "0hogD7bhtn-M",
        "colab_type": "code",
        "colab": {
          "base_uri": "https://localhost:8080/",
          "height": 47
        },
        "outputId": "04010a67-227c-44ad-8b83-fcf68ffb7468"
      },
      "source": [
        "#List all rows where Neighbourhood = 'Not assigned'. \n",
        "Num_Neighbourhood_Not_Assigneds = df[df['Neighbourhood'] == 'Not assigned']\n",
        "Num_Neighbourhood_Not_Assigneds.head(5)"
      ],
      "execution_count": 11,
      "outputs": [
        {
          "output_type": "execute_result",
          "data": {
            "text/html": [
              "<div>\n",
              "<style scoped>\n",
              "    .dataframe tbody tr th:only-of-type {\n",
              "        vertical-align: middle;\n",
              "    }\n",
              "\n",
              "    .dataframe tbody tr th {\n",
              "        vertical-align: top;\n",
              "    }\n",
              "\n",
              "    .dataframe thead th {\n",
              "        text-align: right;\n",
              "    }\n",
              "</style>\n",
              "<table border=\"1\" class=\"dataframe\">\n",
              "  <thead>\n",
              "    <tr style=\"text-align: right;\">\n",
              "      <th></th>\n",
              "      <th>Postal Code</th>\n",
              "      <th>Borough</th>\n",
              "      <th>Neighbourhood</th>\n",
              "    </tr>\n",
              "  </thead>\n",
              "  <tbody>\n",
              "  </tbody>\n",
              "</table>\n",
              "</div>"
            ],
            "text/plain": [
              "Empty DataFrame\n",
              "Columns: [Postal Code, Borough, Neighbourhood]\n",
              "Index: []"
            ]
          },
          "metadata": {
            "tags": []
          },
          "execution_count": 11
        }
      ]
    },
    {
      "cell_type": "code",
      "metadata": {
        "id": "A5RvimAtuKKy",
        "colab_type": "code",
        "colab": {
          "base_uri": "https://localhost:8080/",
          "height": 195
        },
        "outputId": "2214c240-17e9-4328-fa60-f528162cd9da"
      },
      "source": [
        "#Create a Wk3:PostalDataPart1.csv file we will use for Wk3: Part 2.\n",
        "df.to_csv('Wk3PostalDataPart1.csv', index=False)\n",
        "\n",
        "#Test csv load\n",
        "df2 = pd.read_csv('./Wk3PostalDataPart1.csv')\n",
        "df2.head()"
      ],
      "execution_count": 12,
      "outputs": [
        {
          "output_type": "execute_result",
          "data": {
            "text/html": [
              "<div>\n",
              "<style scoped>\n",
              "    .dataframe tbody tr th:only-of-type {\n",
              "        vertical-align: middle;\n",
              "    }\n",
              "\n",
              "    .dataframe tbody tr th {\n",
              "        vertical-align: top;\n",
              "    }\n",
              "\n",
              "    .dataframe thead th {\n",
              "        text-align: right;\n",
              "    }\n",
              "</style>\n",
              "<table border=\"1\" class=\"dataframe\">\n",
              "  <thead>\n",
              "    <tr style=\"text-align: right;\">\n",
              "      <th></th>\n",
              "      <th>Postal Code</th>\n",
              "      <th>Borough</th>\n",
              "      <th>Neighbourhood</th>\n",
              "    </tr>\n",
              "  </thead>\n",
              "  <tbody>\n",
              "    <tr>\n",
              "      <th>0</th>\n",
              "      <td>M3A</td>\n",
              "      <td>North York</td>\n",
              "      <td>Parkwoods</td>\n",
              "    </tr>\n",
              "    <tr>\n",
              "      <th>1</th>\n",
              "      <td>M4A</td>\n",
              "      <td>North York</td>\n",
              "      <td>Victoria Village</td>\n",
              "    </tr>\n",
              "    <tr>\n",
              "      <th>2</th>\n",
              "      <td>M5A</td>\n",
              "      <td>Downtown Toronto</td>\n",
              "      <td>Regent Park, Harbourfront</td>\n",
              "    </tr>\n",
              "    <tr>\n",
              "      <th>3</th>\n",
              "      <td>M6A</td>\n",
              "      <td>North York</td>\n",
              "      <td>Lawrence Manor, Lawrence Heights</td>\n",
              "    </tr>\n",
              "    <tr>\n",
              "      <th>4</th>\n",
              "      <td>M7A</td>\n",
              "      <td>Downtown Toronto</td>\n",
              "      <td>Queen's Park, Ontario Provincial Government</td>\n",
              "    </tr>\n",
              "  </tbody>\n",
              "</table>\n",
              "</div>"
            ],
            "text/plain": [
              "  Postal Code           Borough                                Neighbourhood\n",
              "0         M3A        North York                                    Parkwoods\n",
              "1         M4A        North York                             Victoria Village\n",
              "2         M5A  Downtown Toronto                    Regent Park, Harbourfront\n",
              "3         M6A        North York             Lawrence Manor, Lawrence Heights\n",
              "4         M7A  Downtown Toronto  Queen's Park, Ontario Provincial Government"
            ]
          },
          "metadata": {
            "tags": []
          },
          "execution_count": 12
        }
      ]
    },
    {
      "cell_type": "markdown",
      "metadata": {
        "id": "mHHuFv3aufFF",
        "colab_type": "text"
      },
      "source": [
        "\n",
        "Summary:\n",
        "Net of 103 net rows of data, after 77 borough 'Not Assigned' rows were removed from initial 180 rows reported during initial step.\n",
        "Dataframe is ready for integration with next Part 2 assignment."
      ]
    },
    {
      "cell_type": "code",
      "metadata": {
        "id": "PTzE4gZ6uVwq",
        "colab_type": "code",
        "colab": {
          "base_uri": "https://localhost:8080/",
          "height": 34
        },
        "outputId": "345efc38-fd94-48db-f8e6-9600ae0b12a7"
      },
      "source": [
        "\n",
        "print(df.shape, 'rows x cols')"
      ],
      "execution_count": 13,
      "outputs": [
        {
          "output_type": "stream",
          "text": [
            "(103, 3) rows x cols\n"
          ],
          "name": "stdout"
        }
      ]
    },
    {
      "cell_type": "code",
      "metadata": {
        "id": "B27iMWSVxRk0",
        "colab_type": "code",
        "colab": {
          "base_uri": "https://localhost:8080/",
          "height": 225
        },
        "outputId": "ab41e91a-1759-43ab-d916-fd29411839b9"
      },
      "source": [
        "toronto_geocsv = 'https://cocl.us/Geospatial_data'\n",
        "!wget -q -O 'toronto_m.geospatial_data.csv' toronto_geocsv\n",
        "geocsv_data = pd.read_csv(toronto_geocsv).set_index(\"Postal Code\")\n",
        "geocsv_data.head()"
      ],
      "execution_count": 14,
      "outputs": [
        {
          "output_type": "execute_result",
          "data": {
            "text/html": [
              "<div>\n",
              "<style scoped>\n",
              "    .dataframe tbody tr th:only-of-type {\n",
              "        vertical-align: middle;\n",
              "    }\n",
              "\n",
              "    .dataframe tbody tr th {\n",
              "        vertical-align: top;\n",
              "    }\n",
              "\n",
              "    .dataframe thead th {\n",
              "        text-align: right;\n",
              "    }\n",
              "</style>\n",
              "<table border=\"1\" class=\"dataframe\">\n",
              "  <thead>\n",
              "    <tr style=\"text-align: right;\">\n",
              "      <th></th>\n",
              "      <th>Latitude</th>\n",
              "      <th>Longitude</th>\n",
              "    </tr>\n",
              "    <tr>\n",
              "      <th>Postal Code</th>\n",
              "      <th></th>\n",
              "      <th></th>\n",
              "    </tr>\n",
              "  </thead>\n",
              "  <tbody>\n",
              "    <tr>\n",
              "      <th>M1B</th>\n",
              "      <td>43.806686</td>\n",
              "      <td>-79.194353</td>\n",
              "    </tr>\n",
              "    <tr>\n",
              "      <th>M1C</th>\n",
              "      <td>43.784535</td>\n",
              "      <td>-79.160497</td>\n",
              "    </tr>\n",
              "    <tr>\n",
              "      <th>M1E</th>\n",
              "      <td>43.763573</td>\n",
              "      <td>-79.188711</td>\n",
              "    </tr>\n",
              "    <tr>\n",
              "      <th>M1G</th>\n",
              "      <td>43.770992</td>\n",
              "      <td>-79.216917</td>\n",
              "    </tr>\n",
              "    <tr>\n",
              "      <th>M1H</th>\n",
              "      <td>43.773136</td>\n",
              "      <td>-79.239476</td>\n",
              "    </tr>\n",
              "  </tbody>\n",
              "</table>\n",
              "</div>"
            ],
            "text/plain": [
              "              Latitude  Longitude\n",
              "Postal Code                      \n",
              "M1B          43.806686 -79.194353\n",
              "M1C          43.784535 -79.160497\n",
              "M1E          43.763573 -79.188711\n",
              "M1G          43.770992 -79.216917\n",
              "M1H          43.773136 -79.239476"
            ]
          },
          "metadata": {
            "tags": []
          },
          "execution_count": 14
        }
      ]
    },
    {
      "cell_type": "code",
      "metadata": {
        "id": "2h-O3GvOzOti",
        "colab_type": "code",
        "colab": {
          "base_uri": "https://localhost:8080/",
          "height": 402
        },
        "outputId": "e3f9e484-f596-4476-9782-bf246e87dd3c"
      },
      "source": [
        "df = pd.merge(geocsv_data, df2, on='Postal Code')\n",
        "df"
      ],
      "execution_count": 18,
      "outputs": [
        {
          "output_type": "execute_result",
          "data": {
            "text/html": [
              "<div>\n",
              "<style scoped>\n",
              "    .dataframe tbody tr th:only-of-type {\n",
              "        vertical-align: middle;\n",
              "    }\n",
              "\n",
              "    .dataframe tbody tr th {\n",
              "        vertical-align: top;\n",
              "    }\n",
              "\n",
              "    .dataframe thead th {\n",
              "        text-align: right;\n",
              "    }\n",
              "</style>\n",
              "<table border=\"1\" class=\"dataframe\">\n",
              "  <thead>\n",
              "    <tr style=\"text-align: right;\">\n",
              "      <th></th>\n",
              "      <th>Postal Code</th>\n",
              "      <th>Latitude</th>\n",
              "      <th>Longitude</th>\n",
              "      <th>Borough</th>\n",
              "      <th>Neighbourhood</th>\n",
              "    </tr>\n",
              "  </thead>\n",
              "  <tbody>\n",
              "    <tr>\n",
              "      <th>0</th>\n",
              "      <td>M1B</td>\n",
              "      <td>43.806686</td>\n",
              "      <td>-79.194353</td>\n",
              "      <td>Scarborough</td>\n",
              "      <td>Malvern, Rouge</td>\n",
              "    </tr>\n",
              "    <tr>\n",
              "      <th>1</th>\n",
              "      <td>M1C</td>\n",
              "      <td>43.784535</td>\n",
              "      <td>-79.160497</td>\n",
              "      <td>Scarborough</td>\n",
              "      <td>Rouge Hill, Port Union, Highland Creek</td>\n",
              "    </tr>\n",
              "    <tr>\n",
              "      <th>2</th>\n",
              "      <td>M1E</td>\n",
              "      <td>43.763573</td>\n",
              "      <td>-79.188711</td>\n",
              "      <td>Scarborough</td>\n",
              "      <td>Guildwood, Morningside, West Hill</td>\n",
              "    </tr>\n",
              "    <tr>\n",
              "      <th>3</th>\n",
              "      <td>M1G</td>\n",
              "      <td>43.770992</td>\n",
              "      <td>-79.216917</td>\n",
              "      <td>Scarborough</td>\n",
              "      <td>Woburn</td>\n",
              "    </tr>\n",
              "    <tr>\n",
              "      <th>4</th>\n",
              "      <td>M1H</td>\n",
              "      <td>43.773136</td>\n",
              "      <td>-79.239476</td>\n",
              "      <td>Scarborough</td>\n",
              "      <td>Cedarbrae</td>\n",
              "    </tr>\n",
              "    <tr>\n",
              "      <th>...</th>\n",
              "      <td>...</td>\n",
              "      <td>...</td>\n",
              "      <td>...</td>\n",
              "      <td>...</td>\n",
              "      <td>...</td>\n",
              "    </tr>\n",
              "    <tr>\n",
              "      <th>98</th>\n",
              "      <td>M9N</td>\n",
              "      <td>43.706876</td>\n",
              "      <td>-79.518188</td>\n",
              "      <td>York</td>\n",
              "      <td>Weston</td>\n",
              "    </tr>\n",
              "    <tr>\n",
              "      <th>99</th>\n",
              "      <td>M9P</td>\n",
              "      <td>43.696319</td>\n",
              "      <td>-79.532242</td>\n",
              "      <td>Etobicoke</td>\n",
              "      <td>Westmount</td>\n",
              "    </tr>\n",
              "    <tr>\n",
              "      <th>100</th>\n",
              "      <td>M9R</td>\n",
              "      <td>43.688905</td>\n",
              "      <td>-79.554724</td>\n",
              "      <td>Etobicoke</td>\n",
              "      <td>Kingsview Village, St. Phillips, Martin Grove ...</td>\n",
              "    </tr>\n",
              "    <tr>\n",
              "      <th>101</th>\n",
              "      <td>M9V</td>\n",
              "      <td>43.739416</td>\n",
              "      <td>-79.588437</td>\n",
              "      <td>Etobicoke</td>\n",
              "      <td>South Steeles, Silverstone, Humbergate, Jamest...</td>\n",
              "    </tr>\n",
              "    <tr>\n",
              "      <th>102</th>\n",
              "      <td>M9W</td>\n",
              "      <td>43.706748</td>\n",
              "      <td>-79.594054</td>\n",
              "      <td>Etobicoke</td>\n",
              "      <td>Northwest, West Humber - Clairville</td>\n",
              "    </tr>\n",
              "  </tbody>\n",
              "</table>\n",
              "<p>103 rows × 5 columns</p>\n",
              "</div>"
            ],
            "text/plain": [
              "    Postal Code  ...                                      Neighbourhood\n",
              "0           M1B  ...                                     Malvern, Rouge\n",
              "1           M1C  ...             Rouge Hill, Port Union, Highland Creek\n",
              "2           M1E  ...                  Guildwood, Morningside, West Hill\n",
              "3           M1G  ...                                             Woburn\n",
              "4           M1H  ...                                          Cedarbrae\n",
              "..          ...  ...                                                ...\n",
              "98          M9N  ...                                             Weston\n",
              "99          M9P  ...                                          Westmount\n",
              "100         M9R  ...  Kingsview Village, St. Phillips, Martin Grove ...\n",
              "101         M9V  ...  South Steeles, Silverstone, Humbergate, Jamest...\n",
              "102         M9W  ...                Northwest, West Humber - Clairville\n",
              "\n",
              "[103 rows x 5 columns]"
            ]
          },
          "metadata": {
            "tags": []
          },
          "execution_count": 18
        }
      ]
    },
    {
      "cell_type": "code",
      "metadata": {
        "id": "JmL76YqZzXSi",
        "colab_type": "code",
        "colab": {
          "base_uri": "https://localhost:8080/",
          "height": 373
        },
        "outputId": "89c87f54-3d35-4dc0-8d8b-270d3e489035"
      },
      "source": [
        "df = df[['Postal Code', 'Borough', 'Neighbourhood', 'Latitude', 'Longitude']]\n",
        "df.head(11)"
      ],
      "execution_count": 20,
      "outputs": [
        {
          "output_type": "execute_result",
          "data": {
            "text/html": [
              "<div>\n",
              "<style scoped>\n",
              "    .dataframe tbody tr th:only-of-type {\n",
              "        vertical-align: middle;\n",
              "    }\n",
              "\n",
              "    .dataframe tbody tr th {\n",
              "        vertical-align: top;\n",
              "    }\n",
              "\n",
              "    .dataframe thead th {\n",
              "        text-align: right;\n",
              "    }\n",
              "</style>\n",
              "<table border=\"1\" class=\"dataframe\">\n",
              "  <thead>\n",
              "    <tr style=\"text-align: right;\">\n",
              "      <th></th>\n",
              "      <th>Postal Code</th>\n",
              "      <th>Borough</th>\n",
              "      <th>Neighbourhood</th>\n",
              "      <th>Latitude</th>\n",
              "      <th>Longitude</th>\n",
              "    </tr>\n",
              "  </thead>\n",
              "  <tbody>\n",
              "    <tr>\n",
              "      <th>0</th>\n",
              "      <td>M1B</td>\n",
              "      <td>Scarborough</td>\n",
              "      <td>Malvern, Rouge</td>\n",
              "      <td>43.806686</td>\n",
              "      <td>-79.194353</td>\n",
              "    </tr>\n",
              "    <tr>\n",
              "      <th>1</th>\n",
              "      <td>M1C</td>\n",
              "      <td>Scarborough</td>\n",
              "      <td>Rouge Hill, Port Union, Highland Creek</td>\n",
              "      <td>43.784535</td>\n",
              "      <td>-79.160497</td>\n",
              "    </tr>\n",
              "    <tr>\n",
              "      <th>2</th>\n",
              "      <td>M1E</td>\n",
              "      <td>Scarborough</td>\n",
              "      <td>Guildwood, Morningside, West Hill</td>\n",
              "      <td>43.763573</td>\n",
              "      <td>-79.188711</td>\n",
              "    </tr>\n",
              "    <tr>\n",
              "      <th>3</th>\n",
              "      <td>M1G</td>\n",
              "      <td>Scarborough</td>\n",
              "      <td>Woburn</td>\n",
              "      <td>43.770992</td>\n",
              "      <td>-79.216917</td>\n",
              "    </tr>\n",
              "    <tr>\n",
              "      <th>4</th>\n",
              "      <td>M1H</td>\n",
              "      <td>Scarborough</td>\n",
              "      <td>Cedarbrae</td>\n",
              "      <td>43.773136</td>\n",
              "      <td>-79.239476</td>\n",
              "    </tr>\n",
              "    <tr>\n",
              "      <th>5</th>\n",
              "      <td>M1J</td>\n",
              "      <td>Scarborough</td>\n",
              "      <td>Scarborough Village</td>\n",
              "      <td>43.744734</td>\n",
              "      <td>-79.239476</td>\n",
              "    </tr>\n",
              "    <tr>\n",
              "      <th>6</th>\n",
              "      <td>M1K</td>\n",
              "      <td>Scarborough</td>\n",
              "      <td>Kennedy Park, Ionview, East Birchmount Park</td>\n",
              "      <td>43.727929</td>\n",
              "      <td>-79.262029</td>\n",
              "    </tr>\n",
              "    <tr>\n",
              "      <th>7</th>\n",
              "      <td>M1L</td>\n",
              "      <td>Scarborough</td>\n",
              "      <td>Golden Mile, Clairlea, Oakridge</td>\n",
              "      <td>43.711112</td>\n",
              "      <td>-79.284577</td>\n",
              "    </tr>\n",
              "    <tr>\n",
              "      <th>8</th>\n",
              "      <td>M1M</td>\n",
              "      <td>Scarborough</td>\n",
              "      <td>Cliffside, Cliffcrest, Scarborough Village West</td>\n",
              "      <td>43.716316</td>\n",
              "      <td>-79.239476</td>\n",
              "    </tr>\n",
              "    <tr>\n",
              "      <th>9</th>\n",
              "      <td>M1N</td>\n",
              "      <td>Scarborough</td>\n",
              "      <td>Birch Cliff, Cliffside West</td>\n",
              "      <td>43.692657</td>\n",
              "      <td>-79.264848</td>\n",
              "    </tr>\n",
              "    <tr>\n",
              "      <th>10</th>\n",
              "      <td>M1P</td>\n",
              "      <td>Scarborough</td>\n",
              "      <td>Dorset Park, Wexford Heights, Scarborough Town...</td>\n",
              "      <td>43.757410</td>\n",
              "      <td>-79.273304</td>\n",
              "    </tr>\n",
              "  </tbody>\n",
              "</table>\n",
              "</div>"
            ],
            "text/plain": [
              "   Postal Code      Borough  ...   Latitude  Longitude\n",
              "0          M1B  Scarborough  ...  43.806686 -79.194353\n",
              "1          M1C  Scarborough  ...  43.784535 -79.160497\n",
              "2          M1E  Scarborough  ...  43.763573 -79.188711\n",
              "3          M1G  Scarborough  ...  43.770992 -79.216917\n",
              "4          M1H  Scarborough  ...  43.773136 -79.239476\n",
              "5          M1J  Scarborough  ...  43.744734 -79.239476\n",
              "6          M1K  Scarborough  ...  43.727929 -79.262029\n",
              "7          M1L  Scarborough  ...  43.711112 -79.284577\n",
              "8          M1M  Scarborough  ...  43.716316 -79.239476\n",
              "9          M1N  Scarborough  ...  43.692657 -79.264848\n",
              "10         M1P  Scarborough  ...  43.757410 -79.273304\n",
              "\n",
              "[11 rows x 5 columns]"
            ]
          },
          "metadata": {
            "tags": []
          },
          "execution_count": 20
        }
      ]
    },
    {
      "cell_type": "code",
      "metadata": {
        "id": "n_pCnGVV0U6S",
        "colab_type": "code",
        "colab": {}
      },
      "source": [
        "df.to_csv('Toronto.TASK_II_df.csv',index=False)"
      ],
      "execution_count": 21,
      "outputs": []
    },
    {
      "cell_type": "code",
      "metadata": {
        "id": "VUHdnu8v0c5t",
        "colab_type": "code",
        "colab": {
          "base_uri": "https://localhost:8080/",
          "height": 34
        },
        "outputId": "84d4a466-2399-4790-c592-cd55e8ca7d9b"
      },
      "source": [
        "df.shape"
      ],
      "execution_count": 22,
      "outputs": [
        {
          "output_type": "execute_result",
          "data": {
            "text/plain": [
              "(103, 5)"
            ]
          },
          "metadata": {
            "tags": []
          },
          "execution_count": 22
        }
      ]
    },
    {
      "cell_type": "code",
      "metadata": {
        "id": "eRmpJU2y0e6-",
        "colab_type": "code",
        "colab": {}
      },
      "source": [
        ""
      ],
      "execution_count": null,
      "outputs": []
    }
  ]
}